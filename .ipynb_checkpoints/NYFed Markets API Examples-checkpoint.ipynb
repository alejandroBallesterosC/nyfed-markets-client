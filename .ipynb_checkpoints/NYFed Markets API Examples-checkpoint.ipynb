{
 "cells": [
  {
   "cell_type": "code",
   "execution_count": null,
   "id": "84713b06",
   "metadata": {},
   "outputs": [],
   "source": [
    "from nyfedmarketsclient import *\n",
    "import xmltodict, json"
   ]
  },
  {
   "cell_type": "markdown",
   "id": "144c97a1",
   "metadata": {},
   "source": [
    "# AMBS Operations"
   ]
  },
  {
   "cell_type": "code",
   "execution_count": null,
   "id": "5fcce61b",
   "metadata": {},
   "outputs": [],
   "source": [
    "a = AgencyMortgageBackedSecurities()"
   ]
  },
  {
   "cell_type": "code",
   "execution_count": null,
   "id": "19903924",
   "metadata": {},
   "outputs": [],
   "source": [
    "a.getCurrentDateOperations()"
   ]
  },
  {
   "cell_type": "code",
   "execution_count": null,
   "id": "b2f3251b",
   "metadata": {},
   "outputs": [],
   "source": [
    "a.getLastTwoWeeksOperations()"
   ]
  },
  {
   "cell_type": "code",
   "execution_count": null,
   "id": "6a7d75ae",
   "metadata": {},
   "outputs": [],
   "source": [
    "a.getLastNOperations()"
   ]
  },
  {
   "cell_type": "code",
   "execution_count": null,
   "id": "912eee4c",
   "metadata": {},
   "outputs": [],
   "source": [
    "params = {'startDate': '2021-01-01',\n",
    "          'endDate': '2021-06-02',\n",
    "          'securities': 'Coupon Swap'}\n",
    "\n",
    "a.getFilteredOperations(include='details', params=params)"
   ]
  },
  {
   "cell_type": "markdown",
   "id": "fe4b78b6",
   "metadata": {},
   "source": [
    "# CBLS Operations"
   ]
  },
  {
   "cell_type": "code",
   "execution_count": null,
   "id": "07cae01c",
   "metadata": {},
   "outputs": [],
   "source": [
    "c = CentralBankLiquiditySwaps()"
   ]
  },
  {
   "cell_type": "code",
   "execution_count": null,
   "id": "87980860",
   "metadata": {},
   "outputs": [],
   "source": [
    "c.getCurrentDateOperations()"
   ]
  },
  {
   "cell_type": "code",
   "execution_count": null,
   "id": "6cad383c",
   "metadata": {},
   "outputs": [],
   "source": [
    "c.getLastNOperations()"
   ]
  },
  {
   "cell_type": "code",
   "execution_count": null,
   "id": "91e179da",
   "metadata": {},
   "outputs": [],
   "source": [
    "params = {'startDate': '2021-01-01',\n",
    "          'endDate': '2021-10-10',\n",
    "          'datType': 'trade',\n",
    "         'counterparties': 'japan,europe'}\n",
    "\n",
    "c.getFilteredOperations(params=params)"
   ]
  },
  {
   "cell_type": "code",
   "execution_count": null,
   "id": "20af4b02",
   "metadata": {},
   "outputs": [],
   "source": [
    "c.getCounterparties()"
   ]
  },
  {
   "cell_type": "markdown",
   "id": "638ce01f",
   "metadata": {},
   "source": [
    "# Guide Sheets"
   ]
  },
  {
   "cell_type": "code",
   "execution_count": null,
   "id": "59e332c2",
   "metadata": {},
   "outputs": [],
   "source": [
    "g = Guidesheets()"
   ]
  },
  {
   "cell_type": "code",
   "execution_count": null,
   "id": "6edc984b",
   "metadata": {},
   "outputs": [],
   "source": [
    "g.getCurrentGuidesheet()"
   ]
  },
  {
   "cell_type": "code",
   "execution_count": null,
   "id": "f6afd58d",
   "metadata": {},
   "outputs": [],
   "source": [
    "g.getPreviousGuidesheet()"
   ]
  },
  {
   "cell_type": "markdown",
   "id": "18e47d5d",
   "metadata": {},
   "source": [
    "# Primary Dealer Surveys & Statistics"
   ]
  },
  {
   "cell_type": "code",
   "execution_count": null,
   "id": "4c4bd9d3",
   "metadata": {},
   "outputs": [],
   "source": [
    "dlr = PrimaryDealer()"
   ]
  },
  {
   "cell_type": "code",
   "execution_count": null,
   "id": "787e7a67",
   "metadata": {},
   "outputs": [],
   "source": [
    "dlr.getLatestSurveyBySb(seriesbreak='SBN2022')"
   ]
  },
  {
   "cell_type": "code",
   "execution_count": null,
   "id": "8a33cc53",
   "metadata": {},
   "outputs": [],
   "source": [
    "txt = dlr.getAllSurveys()\n",
    "dlr.stringToCsv(txt, fPath='output/all_pd_surveys.csv')\n",
    "del txt"
   ]
  },
  {
   "cell_type": "code",
   "execution_count": null,
   "id": "2c50835a",
   "metadata": {},
   "outputs": [],
   "source": [
    "dlr.getSurveyDesc()"
   ]
  },
  {
   "cell_type": "code",
   "execution_count": null,
   "id": "2e37160b",
   "metadata": {},
   "outputs": [],
   "source": [
    "dlr.getSurveyAsOfDates()"
   ]
  },
  {
   "cell_type": "code",
   "execution_count": null,
   "id": "a39c3ee5",
   "metadata": {},
   "outputs": [],
   "source": [
    "dlr.getSurveySeriesbreaks()"
   ]
  },
  {
   "cell_type": "code",
   "execution_count": null,
   "id": "63e01a74",
   "metadata": {},
   "outputs": [],
   "source": [
    "dlr.getSurveyByDate(date='2022-01-05')"
   ]
  },
  {
   "cell_type": "code",
   "execution_count": null,
   "id": "15ef0027",
   "metadata": {},
   "outputs": [],
   "source": [
    "dlr.getSurveyByTs(timeseries='PDPOSABS-ALBC')"
   ]
  },
  {
   "cell_type": "code",
   "execution_count": null,
   "id": "09e493fb",
   "metadata": {},
   "outputs": [],
   "source": [
    "dlr.getSurveyByTsAndSb(seriesbreak='SBN2022', timeseries='PDPOSABS-ALBC')"
   ]
  },
  {
   "cell_type": "code",
   "execution_count": null,
   "id": "1e4db3c1",
   "metadata": {},
   "outputs": [],
   "source": [
    "# This Method Uses XML by Default, as Invalid JSON is received from current API\n",
    "res = dlr.getLatestQtrlyMarketShare()\n",
    "res = xmltodict.parse(res, xml_attribs=False)\n",
    "res = json.loads(json.dumps(res))\n",
    "res"
   ]
  },
  {
   "cell_type": "code",
   "execution_count": null,
   "id": "75419235",
   "metadata": {},
   "outputs": [],
   "source": [
    "# This Method Uses XML by Default, as Invalid JSON is received from current API\n",
    "res = dlr.getLatestYTDMarketShare()\n",
    "res = xmltodict.parse(res, xml_attribs=False)\n",
    "res = json.loads(json.dumps(res))\n",
    "res"
   ]
  },
  {
   "cell_type": "markdown",
   "id": "f07f0c0e",
   "metadata": {},
   "source": [
    "# Reference Rates"
   ]
  },
  {
   "cell_type": "code",
   "execution_count": null,
   "id": "aabe7bf2",
   "metadata": {},
   "outputs": [],
   "source": [
    "r = ReferenceRates()"
   ]
  },
  {
   "cell_type": "code",
   "execution_count": null,
   "id": "012a7253",
   "metadata": {},
   "outputs": [],
   "source": [
    "r.getLatestRates()"
   ]
  },
  {
   "cell_type": "code",
   "execution_count": null,
   "id": "245c963c",
   "metadata": {},
   "outputs": [],
   "source": [
    "r.getFilteredRates()"
   ]
  },
  {
   "cell_type": "code",
   "execution_count": null,
   "id": "3527e9e5",
   "metadata": {},
   "outputs": [],
   "source": [
    "r.getLatestSecuredRates()"
   ]
  },
  {
   "cell_type": "code",
   "execution_count": null,
   "id": "eb226a3a",
   "metadata": {},
   "outputs": [],
   "source": [
    "r.getLastNSecuredRates()"
   ]
  },
  {
   "cell_type": "code",
   "execution_count": null,
   "id": "19d18c7e",
   "metadata": {},
   "outputs": [],
   "source": [
    "params = {'startDate': '2023-01-01',\n",
    "         'endDate': '2023-01-20',\n",
    "         'type': 'sofr'}\n",
    "r.getFilteredSecuredRates(params=params)"
   ]
  },
  {
   "cell_type": "code",
   "execution_count": null,
   "id": "4cd440e8",
   "metadata": {},
   "outputs": [],
   "source": [
    "r.getLatestUnsecuredRates()"
   ]
  },
  {
   "cell_type": "code",
   "execution_count": null,
   "id": "6f412e8a",
   "metadata": {},
   "outputs": [],
   "source": [
    "params = {'startDate': '2023-01-01',\n",
    "         'endDate': '2023-01-20',\n",
    "         'type': 'effr'}\n",
    "r.getFilteredUnsecuredRates(params=params)"
   ]
  },
  {
   "cell_type": "markdown",
   "id": "f7e638fe",
   "metadata": {},
   "source": [
    "# Repo"
   ]
  },
  {
   "cell_type": "code",
   "execution_count": null,
   "id": "565bb33b",
   "metadata": {},
   "outputs": [],
   "source": [
    "r = RepoMarket()"
   ]
  },
  {
   "cell_type": "code",
   "execution_count": null,
   "id": "e5b00a9e",
   "metadata": {},
   "outputs": [],
   "source": [
    "r.getCurrentDateOperations()"
   ]
  },
  {
   "cell_type": "code",
   "execution_count": null,
   "id": "8e7c16b2",
   "metadata": {},
   "outputs": [],
   "source": [
    "r.getLastTwoWeeksOperations()"
   ]
  },
  {
   "cell_type": "code",
   "execution_count": null,
   "id": "ad3357e7",
   "metadata": {},
   "outputs": [],
   "source": [
    "r.getLastNOperations()"
   ]
  },
  {
   "cell_type": "code",
   "execution_count": null,
   "id": "72000e78",
   "metadata": {},
   "outputs": [],
   "source": [
    "r.getFilteredOperations()"
   ]
  },
  {
   "cell_type": "code",
   "execution_count": null,
   "id": "f4e256d4",
   "metadata": {},
   "outputs": [],
   "source": [
    "params = {'startDate': '2023-01-01',\n",
    "          'endDate': '2023-01-20'\n",
    "}\n",
    "r.getFilteredReverseRepoOperations(params=params)"
   ]
  },
  {
   "cell_type": "markdown",
   "id": "a0bd67fa",
   "metadata": {},
   "source": [
    "# Securities Lending"
   ]
  },
  {
   "cell_type": "code",
   "execution_count": null,
   "id": "484487c1",
   "metadata": {},
   "outputs": [],
   "source": [
    "s = SecuritiesLending()"
   ]
  },
  {
   "cell_type": "code",
   "execution_count": null,
   "id": "64bf10bd",
   "metadata": {},
   "outputs": [],
   "source": [
    "s.getCurrentDateOperations()"
   ]
  },
  {
   "cell_type": "code",
   "execution_count": null,
   "id": "8e819a5a",
   "metadata": {},
   "outputs": [],
   "source": [
    "s.getLastTwoWeeksOperations()"
   ]
  },
  {
   "cell_type": "code",
   "execution_count": null,
   "id": "d22a33bb",
   "metadata": {},
   "outputs": [],
   "source": [
    "s.getLastNOperations()"
   ]
  },
  {
   "cell_type": "code",
   "execution_count": null,
   "id": "15bd8c61",
   "metadata": {},
   "outputs": [],
   "source": [
    "params = {'startDate': '2023-01-01',\n",
    "         'endDate:': '2023-01-25',\n",
    "         'cusip': '912796ZU6',\n",
    "         'desc': 'B 02/14/23'}\n",
    "s.getFilteredOperations(params=params)"
   ]
  },
  {
   "cell_type": "markdown",
   "id": "6be6e517",
   "metadata": {},
   "source": [
    "# SOMA"
   ]
  },
  {
   "cell_type": "code",
   "execution_count": null,
   "id": "dd63d73d",
   "metadata": {},
   "outputs": [],
   "source": [
    "s = SOMA()"
   ]
  },
  {
   "cell_type": "code",
   "execution_count": null,
   "id": "5f0f66a3",
   "metadata": {},
   "outputs": [],
   "source": [
    "s.getLatestAsOfDate()"
   ]
  },
  {
   "cell_type": "code",
   "execution_count": null,
   "id": "c481516e",
   "metadata": {},
   "outputs": [],
   "source": [
    "s.getTotalHoldingsBySecurity()"
   ]
  },
  {
   "cell_type": "code",
   "execution_count": null,
   "id": "816140c7",
   "metadata": {},
   "outputs": [],
   "source": [
    "s.getAllAsOfDates()"
   ]
  },
  {
   "cell_type": "code",
   "execution_count": null,
   "id": "77da6a88",
   "metadata": {},
   "outputs": [],
   "source": [
    "s.getLastThreeMonthsReleaseAndAsOfDates()"
   ]
  },
  {
   "cell_type": "code",
   "execution_count": null,
   "id": "3d8bfb73",
   "metadata": {},
   "outputs": [],
   "source": [
    "s.getHoldingsByDate(date='2023-01-18')"
   ]
  },
  {
   "cell_type": "code",
   "execution_count": null,
   "id": "3ecb9562",
   "metadata": {},
   "outputs": [],
   "source": [
    "s.getHoldingsByCusip(cusip='31359MEU3')"
   ]
  },
  {
   "cell_type": "code",
   "execution_count": null,
   "id": "018161ad",
   "metadata": {},
   "outputs": [],
   "source": [
    "s.getAgencyDebtWamByDate('2023-01-11')"
   ]
  },
  {
   "cell_type": "code",
   "execution_count": null,
   "id": "694cc457",
   "metadata": {},
   "outputs": [],
   "source": [
    "s.getLastThreeMonthsTreasuryReleaseDates()"
   ]
  },
  {
   "cell_type": "code",
   "execution_count": null,
   "id": "0befc8ff",
   "metadata": {},
   "outputs": [],
   "source": [
    "s.getTreasuryHoldingsByDate(date='2023-01-18')"
   ]
  },
  {
   "cell_type": "code",
   "execution_count": null,
   "id": "c40ad5a4",
   "metadata": {},
   "outputs": [],
   "source": [
    "s.getTreasuryHoldingsByCusip(cusip='912796XS3')"
   ]
  },
  {
   "cell_type": "code",
   "execution_count": null,
   "id": "af6496e0",
   "metadata": {},
   "outputs": [],
   "source": [
    "s.getTreasuryHoldingsByTypeAndDate(holdingType='bills', date='2023-01-18')"
   ]
  },
  {
   "cell_type": "code",
   "execution_count": null,
   "id": "8b039641",
   "metadata": {},
   "outputs": [],
   "source": [
    "s.getTreasuryHoldingWamByTypeAndDate(holdingType='bills', date='2023-01-18')"
   ]
  },
  {
   "cell_type": "code",
   "execution_count": null,
   "id": "f7ded87d",
   "metadata": {},
   "outputs": [],
   "source": [
    "txt = s.getHistoricalMonthlyTreasuryHoldings(fType='csv')\n",
    "s.stringToCsv(txt, fPath='output/historical_monthly_treasury_holdings.csv')\n",
    "del txt"
   ]
  },
  {
   "cell_type": "markdown",
   "id": "6fe13656",
   "metadata": {},
   "source": [
    "# Treasury Operations"
   ]
  },
  {
   "cell_type": "code",
   "execution_count": null,
   "id": "c0d1dc9c",
   "metadata": {},
   "outputs": [],
   "source": [
    "t = TreasuryOperations()"
   ]
  },
  {
   "cell_type": "code",
   "execution_count": null,
   "id": "4262c3fb",
   "metadata": {},
   "outputs": [],
   "source": [
    "t.getCurrentDateOperations()"
   ]
  },
  {
   "cell_type": "code",
   "execution_count": null,
   "id": "bc81e2db",
   "metadata": {},
   "outputs": [],
   "source": [
    "t.getLastTwoWeeksOperations()"
   ]
  },
  {
   "cell_type": "code",
   "execution_count": null,
   "id": "ed8cde6b",
   "metadata": {},
   "outputs": [],
   "source": [
    "t.getLastNOperations(number=10)"
   ]
  },
  {
   "cell_type": "code",
   "execution_count": null,
   "id": "4017452c",
   "metadata": {},
   "outputs": [],
   "source": [
    "params = {'startDate': '2023-01-01',\n",
    "          'endDate': '2023-01-25',\n",
    "          'securityType': 'treasury',\n",
    "          'cusip': '912828ZD5',\n",
    "          'desc': 'T 00.500 03/15/23'\n",
    "         }\n",
    "\n",
    "t.getFilteredOperations(params=params)"
   ]
  }
 ],
 "metadata": {
  "kernelspec": {
   "display_name": "default",
   "language": "python",
   "name": "default"
  },
  "language_info": {
   "codemirror_mode": {
    "name": "ipython",
    "version": 3
   },
   "file_extension": ".py",
   "mimetype": "text/x-python",
   "name": "python",
   "nbconvert_exporter": "python",
   "pygments_lexer": "ipython3",
   "version": "3.10.8"
  }
 },
 "nbformat": 4,
 "nbformat_minor": 5
}
